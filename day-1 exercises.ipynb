{
 "cells": [
  {
   "cell_type": "markdown",
   "metadata": {},
   "source": [
    "# Problem Sheet Day 1\n",
    "\n",
    "_Gdansk Summer School 'Picturing Quantum Weirdness 2023_\n",
    "\n",
    "\n",
    "In this problem sheet, we will get the hang of working with the basic generators of circuits and ZX-diagrams concretely, using matrix calculations. For this, we will use the `sympy` library."
   ]
  },
  {
   "cell_type": "code",
   "execution_count": 1,
   "metadata": {
    "ExecuteTime": {
     "start_time": "2023-08-07T15:05:39.581439Z",
     "end_time": "2023-08-07T15:05:41.439054Z"
    }
   },
   "outputs": [],
   "source": [
    "from sympy import *\n",
    "from sympy.physics.quantum import TensorProduct\n",
    "from fractions import Fraction\n",
    "\n",
    "def T(*args):\n",
    "    if len(args) == 1: return args[0]\n",
    "    elif len(args) == 0: return Matrix([[1]])\n",
    "    else: return TensorProduct(args[0], T(*args[1:]))\n",
    "\n",
    "alpha = var(\"alpha\")\n",
    "beta = var(\"beta\")\n",
    "gamma = var(\"gamma\")"
   ]
  },
  {
   "cell_type": "markdown",
   "metadata": {},
   "source": [
    "With this library, we can construct matrices with `Matrix`. Then `*` is matrix multiplication, and `T` is tensor product.\n",
    "\n",
    "Note `T` takes any number of arguments, e.g. $A \\otimes B \\otimes C$ is `T(A,B,C)`, and if you want to be fancy: $A^{\\otimes n}$ is `T(*n*[A])`. (Python trivia: Why does that work??)"
   ]
  },
  {
   "cell_type": "code",
   "execution_count": 2,
   "metadata": {
    "ExecuteTime": {
     "start_time": "2023-08-07T15:05:40.992053Z",
     "end_time": "2023-08-07T15:05:41.440051Z"
    }
   },
   "outputs": [
    {
     "data": {
      "text/plain": "Matrix([\n[1, 2],\n[3, 4]])",
      "text/latex": "$\\displaystyle \\left[\\begin{matrix}1 & 2\\\\3 & 4\\end{matrix}\\right]$"
     },
     "metadata": {},
     "output_type": "display_data"
    },
    {
     "data": {
      "text/plain": "Matrix([\n[37,  54],\n[81, 118]])",
      "text/latex": "$\\displaystyle \\left[\\begin{matrix}37 & 54\\\\81 & 118\\end{matrix}\\right]$"
     },
     "metadata": {},
     "output_type": "display_data"
    },
    {
     "data": {
      "text/plain": "Matrix([\n[1,  2,  2,  4],\n[3,  4,  6,  8],\n[3,  6,  4,  8],\n[9, 12, 12, 16]])",
      "text/latex": "$\\displaystyle \\left[\\begin{matrix}1 & 2 & 2 & 4\\\\3 & 4 & 6 & 8\\\\3 & 6 & 4 & 8\\\\9 & 12 & 12 & 16\\end{matrix}\\right]$"
     },
     "metadata": {},
     "output_type": "display_data"
    }
   ],
   "source": [
    "M = Matrix([[1,  2],\n",
    "            [3,  4]])\n",
    "display(M)\n",
    "display(M * M * M)\n",
    "display(T(M,M))"
   ]
  },
  {
   "cell_type": "markdown",
   "metadata": {},
   "source": [
    "We can also define some variables with `var` which can be used in mathmatical expressions, and substituted via `.subs(...)`. Variable names can be any string, but `sympy` knows how to pretty-print some variable names, e.g. Greek letters.\n",
    "\n",
    "NOTE: $\\sqrt{2}$ is `sqrt(2)`, $i$ is `I`, $\\pi$ is `pi`, and $e^x$ is `exp(x)`, so phases $e^{i \\alpha}$ are written `exp(i * alpha)`."
   ]
  },
  {
   "cell_type": "code",
   "execution_count": 3,
   "metadata": {
    "ExecuteTime": {
     "start_time": "2023-08-07T15:05:41.023052Z",
     "end_time": "2023-08-07T15:05:41.440051Z"
    }
   },
   "outputs": [
    {
     "data": {
      "text/plain": "alpha",
      "text/latex": "$\\displaystyle \\alpha$"
     },
     "metadata": {},
     "output_type": "display_data"
    },
    {
     "data": {
      "text/plain": "exp(I*alpha)",
      "text/latex": "$\\displaystyle e^{i \\alpha}$"
     },
     "metadata": {},
     "output_type": "display_data"
    },
    {
     "data": {
      "text/plain": "-I",
      "text/latex": "$\\displaystyle - i$"
     },
     "metadata": {},
     "output_type": "display_data"
    },
    {
     "data": {
      "text/plain": "True"
     },
     "metadata": {},
     "output_type": "display_data"
    },
    {
     "data": {
      "text/plain": "sqrt(2)/2 + sqrt(2)*I/2",
      "text/latex": "$\\displaystyle \\frac{\\sqrt{2}}{2} + \\frac{\\sqrt{2} i}{2}$"
     },
     "metadata": {},
     "output_type": "display_data"
    }
   ],
   "source": [
    "alpha = var(\"alpha\")\n",
    "phase = exp(I * alpha)\n",
    "epi4 = exp(I * pi / 4)\n",
    "\n",
    "display(alpha)\n",
    "display(phase)\n",
    "display(phase.subs(alpha, -pi / 2))\n",
    "display(phase.subs(alpha, pi / 4) == epi4)\n",
    "display(re(epi4) + I * im(epi4))"
   ]
  },
  {
   "cell_type": "markdown",
   "metadata": {},
   "source": [
    "That should be enough to get going. If in doubt, [read the docs](https://docs.sympy.org/latest/index.html)."
   ]
  },
  {
   "cell_type": "markdown",
   "metadata": {},
   "source": [
    "# Question 0\n",
    "\n",
    "First some basics. Define matrices for:\n",
    " * `z0` := $|0\\rangle$, `z1` := $|1\\rangle$, `x0` := $|{+}\\rangle$, `x1` := $|{-}\\rangle$\n",
    " * `bz0` := $\\langle 0|$, `bz1` := $\\langle 1|$, `bx0` := $\\langle {+}|$, `bx1` := $\\langle {-}|$\n",
    " * `w` for the 2D identity matrix (\"wire\")\n",
    " * `swap` for the swap\n",
    "\n",
    "Compute various products and tensor products and show the results are sensible."
   ]
  },
  {
   "cell_type": "code",
   "execution_count": 4,
   "outputs": [
    {
     "data": {
      "text/plain": "Matrix([[1, 0]])",
      "text/latex": "$\\displaystyle \\left[\\begin{matrix}1 & 0\\end{matrix}\\right]$"
     },
     "metadata": {},
     "output_type": "display_data"
    },
    {
     "data": {
      "text/plain": "Matrix([\n[1],\n[0]])",
      "text/latex": "$\\displaystyle \\left[\\begin{matrix}1\\\\0\\end{matrix}\\right]$"
     },
     "metadata": {},
     "output_type": "display_data"
    }
   ],
   "source": [
    "z0 = Matrix([[1],\n",
    "             [0]])\n",
    "z1 = Matrix([[0],\n",
    "             [1]])\n",
    "x0 = Matrix([[1],\n",
    "             [1]]) / sqrt(2)\n",
    "x1 = Matrix([[1],\n",
    "             [-1]]) / sqrt(2)\n",
    "bz0 = z0.T\n",
    "bz1 = z1.T\n",
    "bx0 = x0.T\n",
    "bx1 = x1.T\n",
    "\n",
    "w = Matrix([[1, 0],\n",
    "            [0, 1]])\n",
    "\n",
    "swap = Matrix([[1, 0, 0, 0],\n",
    "               [0, 0, 1, 0],\n",
    "               [0, 1, 0, 0],\n",
    "               [0, 0, 0, 1]])\n",
    "\n",
    "display(bz0)\n",
    "display(z0)"
   ],
   "metadata": {
    "collapsed": false,
    "ExecuteTime": {
     "start_time": "2023-08-07T15:05:41.070054Z",
     "end_time": "2023-08-07T15:05:41.441051Z"
    }
   }
  },
  {
   "cell_type": "markdown",
   "metadata": {},
   "source": [
    "# Question 1\n",
    "\n",
    "Define a function that produces the matrix of a Z-spider. It should take 3 arguments: `m` for input legs, `n` for output legs, and `phase` for phase. The phase should have a default value of 0.\n",
    "\n",
    "Build this function in (at least) 2 different ways:\n",
    " 1. by building the $2^n \\times 2^m$ matrix of the spider explicitly (call this function `zs`)\n",
    " 2. by using sums, compositions, and tensor products of the generators from the previous question\n",
    "\n",
    "Test your implementation by comparing the matrices for various choices of inputs, outputs, and phases. (Don't forget to check no-legged spiders!)"
   ]
  },
  {
   "cell_type": "code",
   "execution_count": 19,
   "outputs": [
    {
     "data": {
      "text/plain": "Matrix([\n[1, 0, 0,           0],\n[0, 0, 0,           0],\n[0, 0, 0,           0],\n[0, 0, 0,           0],\n[0, 0, 0,           0],\n[0, 0, 0,           0],\n[0, 0, 0,           0],\n[0, 0, 0, exp(I*pi/3)]])",
      "text/latex": "$\\displaystyle \\left[\\begin{matrix}1 & 0 & 0 & 0\\\\0 & 0 & 0 & 0\\\\0 & 0 & 0 & 0\\\\0 & 0 & 0 & 0\\\\0 & 0 & 0 & 0\\\\0 & 0 & 0 & 0\\\\0 & 0 & 0 & 0\\\\0 & 0 & 0 & e^{\\frac{i \\pi}{3}}\\end{matrix}\\right]$"
     },
     "metadata": {},
     "output_type": "display_data"
    }
   ],
   "source": [
    "def zs(m: int, n: int, phase: float = 0.0):\n",
    "    \"\"\"\n",
    "    Produces the matrix of a Z spider.\n",
    "\n",
    "    :param m: The input legs\n",
    "    :param n: The output legs\n",
    "    :param phase: Phase of the spider\n",
    "    :return: A matrix of the Z spider\n",
    "    \"\"\"\n",
    "    mat = zeros(2**m, 2**n)\n",
    "    mat[0,0] = 1\n",
    "    mat[2**m - 1,2**n - 1] += exp(I * phase)\n",
    "    return mat\n",
    "\n",
    "def zspider(m: int, n: int, phase: float = 0.0):\n",
    "    \"\"\"\n",
    "    Produces the matrix of a Z spider using tensor products.\n",
    "\n",
    "    :param m: The input legs\n",
    "    :param n: The output legs\n",
    "    :param phase: Phase of the spider\n",
    "    :return: A matrix of the Z spider\n",
    "    \"\"\"\n",
    "    zero_proj = T(*m*[z0]) * T(*n*[bz0])\n",
    "    phase_proj = T(*m*[z1]) * T(*n*[bz1]) * exp(I * phase)\n",
    "    return zero_proj + phase_proj\n",
    "\n",
    "display(zs(3, 2, pi / 3))"
   ],
   "metadata": {
    "collapsed": false,
    "ExecuteTime": {
     "start_time": "2023-08-07T15:14:46.508514Z",
     "end_time": "2023-08-07T15:14:46.532790Z"
    }
   }
  },
  {
   "cell_type": "markdown",
   "metadata": {},
   "source": [
    "# Question 2\n",
    "\n",
    "Similarly, define a function for X-spiders:\n",
    "\n",
    "1. by first defining the Hadamard gate `had` and using `zs` (call this function `xs`)\n",
    "2. using the generators from Question 0\n",
    "\n",
    "Again, check these two definitions agree for various numbers of legs and angles."
   ]
  },
  {
   "cell_type": "code",
   "execution_count": 26,
   "outputs": [
    {
     "data": {
      "text/plain": "Matrix([\n[sqrt(2)/8 + sqrt(2)*exp(I*pi/3)/8, sqrt(2)/8 - sqrt(2)*exp(I*pi/3)/8, sqrt(2)/8 - sqrt(2)*exp(I*pi/3)/8, sqrt(2)/8 + sqrt(2)*exp(I*pi/3)/8],\n[sqrt(2)/8 - sqrt(2)*exp(I*pi/3)/8, sqrt(2)/8 + sqrt(2)*exp(I*pi/3)/8, sqrt(2)/8 + sqrt(2)*exp(I*pi/3)/8, sqrt(2)/8 - sqrt(2)*exp(I*pi/3)/8],\n[sqrt(2)/8 - sqrt(2)*exp(I*pi/3)/8, sqrt(2)/8 + sqrt(2)*exp(I*pi/3)/8, sqrt(2)/8 + sqrt(2)*exp(I*pi/3)/8, sqrt(2)/8 - sqrt(2)*exp(I*pi/3)/8],\n[sqrt(2)/8 + sqrt(2)*exp(I*pi/3)/8, sqrt(2)/8 - sqrt(2)*exp(I*pi/3)/8, sqrt(2)/8 - sqrt(2)*exp(I*pi/3)/8, sqrt(2)/8 + sqrt(2)*exp(I*pi/3)/8],\n[sqrt(2)/8 - sqrt(2)*exp(I*pi/3)/8, sqrt(2)/8 + sqrt(2)*exp(I*pi/3)/8, sqrt(2)/8 + sqrt(2)*exp(I*pi/3)/8, sqrt(2)/8 - sqrt(2)*exp(I*pi/3)/8],\n[sqrt(2)/8 + sqrt(2)*exp(I*pi/3)/8, sqrt(2)/8 - sqrt(2)*exp(I*pi/3)/8, sqrt(2)/8 - sqrt(2)*exp(I*pi/3)/8, sqrt(2)/8 + sqrt(2)*exp(I*pi/3)/8],\n[sqrt(2)/8 + sqrt(2)*exp(I*pi/3)/8, sqrt(2)/8 - sqrt(2)*exp(I*pi/3)/8, sqrt(2)/8 - sqrt(2)*exp(I*pi/3)/8, sqrt(2)/8 + sqrt(2)*exp(I*pi/3)/8],\n[sqrt(2)/8 - sqrt(2)*exp(I*pi/3)/8, sqrt(2)/8 + sqrt(2)*exp(I*pi/3)/8, sqrt(2)/8 + sqrt(2)*exp(I*pi/3)/8, sqrt(2)/8 - sqrt(2)*exp(I*pi/3)/8]])",
      "text/latex": "$\\displaystyle \\left[\\begin{matrix}\\frac{\\sqrt{2}}{8} + \\frac{\\sqrt{2} e^{\\frac{i \\pi}{3}}}{8} & \\frac{\\sqrt{2}}{8} - \\frac{\\sqrt{2} e^{\\frac{i \\pi}{3}}}{8} & \\frac{\\sqrt{2}}{8} - \\frac{\\sqrt{2} e^{\\frac{i \\pi}{3}}}{8} & \\frac{\\sqrt{2}}{8} + \\frac{\\sqrt{2} e^{\\frac{i \\pi}{3}}}{8}\\\\\\frac{\\sqrt{2}}{8} - \\frac{\\sqrt{2} e^{\\frac{i \\pi}{3}}}{8} & \\frac{\\sqrt{2}}{8} + \\frac{\\sqrt{2} e^{\\frac{i \\pi}{3}}}{8} & \\frac{\\sqrt{2}}{8} + \\frac{\\sqrt{2} e^{\\frac{i \\pi}{3}}}{8} & \\frac{\\sqrt{2}}{8} - \\frac{\\sqrt{2} e^{\\frac{i \\pi}{3}}}{8}\\\\\\frac{\\sqrt{2}}{8} - \\frac{\\sqrt{2} e^{\\frac{i \\pi}{3}}}{8} & \\frac{\\sqrt{2}}{8} + \\frac{\\sqrt{2} e^{\\frac{i \\pi}{3}}}{8} & \\frac{\\sqrt{2}}{8} + \\frac{\\sqrt{2} e^{\\frac{i \\pi}{3}}}{8} & \\frac{\\sqrt{2}}{8} - \\frac{\\sqrt{2} e^{\\frac{i \\pi}{3}}}{8}\\\\\\frac{\\sqrt{2}}{8} + \\frac{\\sqrt{2} e^{\\frac{i \\pi}{3}}}{8} & \\frac{\\sqrt{2}}{8} - \\frac{\\sqrt{2} e^{\\frac{i \\pi}{3}}}{8} & \\frac{\\sqrt{2}}{8} - \\frac{\\sqrt{2} e^{\\frac{i \\pi}{3}}}{8} & \\frac{\\sqrt{2}}{8} + \\frac{\\sqrt{2} e^{\\frac{i \\pi}{3}}}{8}\\\\\\frac{\\sqrt{2}}{8} - \\frac{\\sqrt{2} e^{\\frac{i \\pi}{3}}}{8} & \\frac{\\sqrt{2}}{8} + \\frac{\\sqrt{2} e^{\\frac{i \\pi}{3}}}{8} & \\frac{\\sqrt{2}}{8} + \\frac{\\sqrt{2} e^{\\frac{i \\pi}{3}}}{8} & \\frac{\\sqrt{2}}{8} - \\frac{\\sqrt{2} e^{\\frac{i \\pi}{3}}}{8}\\\\\\frac{\\sqrt{2}}{8} + \\frac{\\sqrt{2} e^{\\frac{i \\pi}{3}}}{8} & \\frac{\\sqrt{2}}{8} - \\frac{\\sqrt{2} e^{\\frac{i \\pi}{3}}}{8} & \\frac{\\sqrt{2}}{8} - \\frac{\\sqrt{2} e^{\\frac{i \\pi}{3}}}{8} & \\frac{\\sqrt{2}}{8} + \\frac{\\sqrt{2} e^{\\frac{i \\pi}{3}}}{8}\\\\\\frac{\\sqrt{2}}{8} + \\frac{\\sqrt{2} e^{\\frac{i \\pi}{3}}}{8} & \\frac{\\sqrt{2}}{8} - \\frac{\\sqrt{2} e^{\\frac{i \\pi}{3}}}{8} & \\frac{\\sqrt{2}}{8} - \\frac{\\sqrt{2} e^{\\frac{i \\pi}{3}}}{8} & \\frac{\\sqrt{2}}{8} + \\frac{\\sqrt{2} e^{\\frac{i \\pi}{3}}}{8}\\\\\\frac{\\sqrt{2}}{8} - \\frac{\\sqrt{2} e^{\\frac{i \\pi}{3}}}{8} & \\frac{\\sqrt{2}}{8} + \\frac{\\sqrt{2} e^{\\frac{i \\pi}{3}}}{8} & \\frac{\\sqrt{2}}{8} + \\frac{\\sqrt{2} e^{\\frac{i \\pi}{3}}}{8} & \\frac{\\sqrt{2}}{8} - \\frac{\\sqrt{2} e^{\\frac{i \\pi}{3}}}{8}\\end{matrix}\\right]$"
     },
     "metadata": {},
     "output_type": "display_data"
    },
    {
     "data": {
      "text/plain": "Matrix([\n[sqrt(2)/8 + sqrt(2)*exp(I*pi/3)/8, sqrt(2)/8 - sqrt(2)*exp(I*pi/3)/8, sqrt(2)/8 - sqrt(2)*exp(I*pi/3)/8, sqrt(2)/8 + sqrt(2)*exp(I*pi/3)/8],\n[sqrt(2)/8 - sqrt(2)*exp(I*pi/3)/8, sqrt(2)/8 + sqrt(2)*exp(I*pi/3)/8, sqrt(2)/8 + sqrt(2)*exp(I*pi/3)/8, sqrt(2)/8 - sqrt(2)*exp(I*pi/3)/8],\n[sqrt(2)/8 - sqrt(2)*exp(I*pi/3)/8, sqrt(2)/8 + sqrt(2)*exp(I*pi/3)/8, sqrt(2)/8 + sqrt(2)*exp(I*pi/3)/8, sqrt(2)/8 - sqrt(2)*exp(I*pi/3)/8],\n[sqrt(2)/8 + sqrt(2)*exp(I*pi/3)/8, sqrt(2)/8 - sqrt(2)*exp(I*pi/3)/8, sqrt(2)/8 - sqrt(2)*exp(I*pi/3)/8, sqrt(2)/8 + sqrt(2)*exp(I*pi/3)/8],\n[sqrt(2)/8 - sqrt(2)*exp(I*pi/3)/8, sqrt(2)/8 + sqrt(2)*exp(I*pi/3)/8, sqrt(2)/8 + sqrt(2)*exp(I*pi/3)/8, sqrt(2)/8 - sqrt(2)*exp(I*pi/3)/8],\n[sqrt(2)/8 + sqrt(2)*exp(I*pi/3)/8, sqrt(2)/8 - sqrt(2)*exp(I*pi/3)/8, sqrt(2)/8 - sqrt(2)*exp(I*pi/3)/8, sqrt(2)/8 + sqrt(2)*exp(I*pi/3)/8],\n[sqrt(2)/8 + sqrt(2)*exp(I*pi/3)/8, sqrt(2)/8 - sqrt(2)*exp(I*pi/3)/8, sqrt(2)/8 - sqrt(2)*exp(I*pi/3)/8, sqrt(2)/8 + sqrt(2)*exp(I*pi/3)/8],\n[sqrt(2)/8 - sqrt(2)*exp(I*pi/3)/8, sqrt(2)/8 + sqrt(2)*exp(I*pi/3)/8, sqrt(2)/8 + sqrt(2)*exp(I*pi/3)/8, sqrt(2)/8 - sqrt(2)*exp(I*pi/3)/8]])",
      "text/latex": "$\\displaystyle \\left[\\begin{matrix}\\frac{\\sqrt{2}}{8} + \\frac{\\sqrt{2} e^{\\frac{i \\pi}{3}}}{8} & \\frac{\\sqrt{2}}{8} - \\frac{\\sqrt{2} e^{\\frac{i \\pi}{3}}}{8} & \\frac{\\sqrt{2}}{8} - \\frac{\\sqrt{2} e^{\\frac{i \\pi}{3}}}{8} & \\frac{\\sqrt{2}}{8} + \\frac{\\sqrt{2} e^{\\frac{i \\pi}{3}}}{8}\\\\\\frac{\\sqrt{2}}{8} - \\frac{\\sqrt{2} e^{\\frac{i \\pi}{3}}}{8} & \\frac{\\sqrt{2}}{8} + \\frac{\\sqrt{2} e^{\\frac{i \\pi}{3}}}{8} & \\frac{\\sqrt{2}}{8} + \\frac{\\sqrt{2} e^{\\frac{i \\pi}{3}}}{8} & \\frac{\\sqrt{2}}{8} - \\frac{\\sqrt{2} e^{\\frac{i \\pi}{3}}}{8}\\\\\\frac{\\sqrt{2}}{8} - \\frac{\\sqrt{2} e^{\\frac{i \\pi}{3}}}{8} & \\frac{\\sqrt{2}}{8} + \\frac{\\sqrt{2} e^{\\frac{i \\pi}{3}}}{8} & \\frac{\\sqrt{2}}{8} + \\frac{\\sqrt{2} e^{\\frac{i \\pi}{3}}}{8} & \\frac{\\sqrt{2}}{8} - \\frac{\\sqrt{2} e^{\\frac{i \\pi}{3}}}{8}\\\\\\frac{\\sqrt{2}}{8} + \\frac{\\sqrt{2} e^{\\frac{i \\pi}{3}}}{8} & \\frac{\\sqrt{2}}{8} - \\frac{\\sqrt{2} e^{\\frac{i \\pi}{3}}}{8} & \\frac{\\sqrt{2}}{8} - \\frac{\\sqrt{2} e^{\\frac{i \\pi}{3}}}{8} & \\frac{\\sqrt{2}}{8} + \\frac{\\sqrt{2} e^{\\frac{i \\pi}{3}}}{8}\\\\\\frac{\\sqrt{2}}{8} - \\frac{\\sqrt{2} e^{\\frac{i \\pi}{3}}}{8} & \\frac{\\sqrt{2}}{8} + \\frac{\\sqrt{2} e^{\\frac{i \\pi}{3}}}{8} & \\frac{\\sqrt{2}}{8} + \\frac{\\sqrt{2} e^{\\frac{i \\pi}{3}}}{8} & \\frac{\\sqrt{2}}{8} - \\frac{\\sqrt{2} e^{\\frac{i \\pi}{3}}}{8}\\\\\\frac{\\sqrt{2}}{8} + \\frac{\\sqrt{2} e^{\\frac{i \\pi}{3}}}{8} & \\frac{\\sqrt{2}}{8} - \\frac{\\sqrt{2} e^{\\frac{i \\pi}{3}}}{8} & \\frac{\\sqrt{2}}{8} - \\frac{\\sqrt{2} e^{\\frac{i \\pi}{3}}}{8} & \\frac{\\sqrt{2}}{8} + \\frac{\\sqrt{2} e^{\\frac{i \\pi}{3}}}{8}\\\\\\frac{\\sqrt{2}}{8} + \\frac{\\sqrt{2} e^{\\frac{i \\pi}{3}}}{8} & \\frac{\\sqrt{2}}{8} - \\frac{\\sqrt{2} e^{\\frac{i \\pi}{3}}}{8} & \\frac{\\sqrt{2}}{8} - \\frac{\\sqrt{2} e^{\\frac{i \\pi}{3}}}{8} & \\frac{\\sqrt{2}}{8} + \\frac{\\sqrt{2} e^{\\frac{i \\pi}{3}}}{8}\\\\\\frac{\\sqrt{2}}{8} - \\frac{\\sqrt{2} e^{\\frac{i \\pi}{3}}}{8} & \\frac{\\sqrt{2}}{8} + \\frac{\\sqrt{2} e^{\\frac{i \\pi}{3}}}{8} & \\frac{\\sqrt{2}}{8} + \\frac{\\sqrt{2} e^{\\frac{i \\pi}{3}}}{8} & \\frac{\\sqrt{2}}{8} - \\frac{\\sqrt{2} e^{\\frac{i \\pi}{3}}}{8}\\end{matrix}\\right]$"
     },
     "metadata": {},
     "output_type": "display_data"
    }
   ],
   "source": [
    "had = 1/sqrt(2) * Matrix([[1,  1],\n",
    "                           [1, -1]])\n",
    "\n",
    "def xs(m: int, n: int, phase: float = 0.0):\n",
    "    \"\"\"\n",
    "    Produces the matrix of a X spider.\n",
    "\n",
    "    :param m: The input legs\n",
    "    :param n: The output legs\n",
    "    :param phase: Phase of the spider\n",
    "    :return: A matrix of the X spider\n",
    "    \"\"\"\n",
    "    return T(*m*[had]) * zs(m, n, phase) * T(*n*[had])\n",
    "\n",
    "def xsipder(m: int, n: int, phase: float = 0.0):\n",
    "    \"\"\"\n",
    "    Produces the matrix of a X spider using tensor products.\n",
    "\n",
    "    :param m: The input legs\n",
    "    :param n: The output legs\n",
    "    :param phase: Phase of the spider\n",
    "    :return: A matrix of the X spider\n",
    "    \"\"\"\n",
    "    plus_proj = T(*m*[x0]) * T(*n*[bx0])\n",
    "    minus_proj = T(*m*[x1]) * T(*n*[bx1]) * exp(I * phase)\n",
    "    return plus_proj + minus_proj\n",
    "\n",
    "display(xs(3,2,pi / 3))\n",
    "display(xsipder(3,2,pi / 3))"
   ],
   "metadata": {
    "collapsed": false,
    "ExecuteTime": {
     "start_time": "2023-08-07T15:17:56.738960Z",
     "end_time": "2023-08-07T15:17:56.908957Z"
    }
   }
  },
  {
   "cell_type": "markdown",
   "metadata": {},
   "source": [
    "# Question 3\n",
    "\n",
    "Verify the correctness of the Euler decomposition of the Hadamard. Find the right scalar factor so the matrices of the LHS and RHS agree exactly.\n",
    "\n",
    "**Hint:** If you have some variables, you may need to call the `simplify(...)` function before comparing matrices. If a constant phase is stuck and won't simplify any more, try splitting the real and imaginary parts and putting back together, i.e. `expr1 = re(expr) + I * im(expr)`."
   ]
  },
  {
   "cell_type": "code",
   "execution_count": 51,
   "outputs": [
    {
     "data": {
      "text/plain": "Matrix([\n[1,  1],\n[1, -1]])",
      "text/latex": "$\\displaystyle \\left[\\begin{matrix}1 & 1\\\\1 & -1\\end{matrix}\\right]$"
     },
     "metadata": {},
     "output_type": "display_data"
    }
   ],
   "source": [
    "theta = var(\"theta\")\n",
    "euler_decomp = zs(1,1,pi / 2) * xs(1,1,pi / 2) * zs(1,1,pi / 2) * exp(I * pi / 4) * (- sqrt(2) * I)\n",
    "\n",
    "display(simplify(re(euler_decomp) + I * im(euler_decomp)))"
   ],
   "metadata": {
    "collapsed": false,
    "ExecuteTime": {
     "start_time": "2023-08-07T15:41:48.772876Z",
     "end_time": "2023-08-07T15:41:48.789929Z"
    }
   }
  },
  {
   "cell_type": "markdown",
   "metadata": {},
   "source": [
    "# Question 4\n",
    "\n",
    "* Make an XOR using an X spider and a scalar multiplication, and show it acts like XOR on $\\{|0\\rangle, |1\\rangle\\}$.\n",
    "* Make a CNOT and TONC (a CNOT with a control on the second qubit and target on the first) using Z spiders, X spiders, swaps, and scalar multiplication. Check that CNOT acts as expected on basis states and `swap * CNOT * swap` is the same as `TONC`\n",
    "* Check XOR is associative and `CNOT * TONC * CNOT = swap`"
   ]
  },
  {
   "cell_type": "code",
   "execution_count": 77,
   "outputs": [
    {
     "name": "stdout",
     "output_type": "stream",
     "text": [
      "XOR\n",
      "Input: Matrix([[1, 0, 0, 0]])\n"
     ]
    },
    {
     "data": {
      "text/plain": "Matrix([[0]])",
      "text/latex": "$\\displaystyle \\left[\\begin{matrix}0\\end{matrix}\\right]$"
     },
     "metadata": {},
     "output_type": "display_data"
    },
    {
     "name": "stdout",
     "output_type": "stream",
     "text": [
      "Input: Matrix([[0, 1, 0, 0]])\n"
     ]
    },
    {
     "data": {
      "text/plain": "Matrix([[1]])",
      "text/latex": "$\\displaystyle \\left[\\begin{matrix}1\\end{matrix}\\right]$"
     },
     "metadata": {},
     "output_type": "display_data"
    },
    {
     "name": "stdout",
     "output_type": "stream",
     "text": [
      "Input: Matrix([[0, 0, 1, 0]])\n"
     ]
    },
    {
     "data": {
      "text/plain": "Matrix([[1]])",
      "text/latex": "$\\displaystyle \\left[\\begin{matrix}1\\end{matrix}\\right]$"
     },
     "metadata": {},
     "output_type": "display_data"
    },
    {
     "name": "stdout",
     "output_type": "stream",
     "text": [
      "Input: Matrix([[0, 0, 0, 1]])\n"
     ]
    },
    {
     "data": {
      "text/plain": "Matrix([[0]])",
      "text/latex": "$\\displaystyle \\left[\\begin{matrix}0\\end{matrix}\\right]$"
     },
     "metadata": {},
     "output_type": "display_data"
    },
    {
     "name": "stdout",
     "output_type": "stream",
     "text": [
      "CNOT\n"
     ]
    },
    {
     "data": {
      "text/plain": "Matrix([\n[1, 0, 0, 0],\n[0, 1, 0, 0],\n[0, 0, 0, 1],\n[0, 0, 1, 0]])",
      "text/latex": "$\\displaystyle \\left[\\begin{matrix}1 & 0 & 0 & 0\\\\0 & 1 & 0 & 0\\\\0 & 0 & 0 & 1\\\\0 & 0 & 1 & 0\\end{matrix}\\right]$"
     },
     "metadata": {},
     "output_type": "display_data"
    },
    {
     "name": "stdout",
     "output_type": "stream",
     "text": [
      "TONC\n"
     ]
    },
    {
     "data": {
      "text/plain": "Matrix([\n[1, 0, 0, 0],\n[0, 0, 0, 1],\n[0, 0, 1, 0],\n[0, 1, 0, 0]])",
      "text/latex": "$\\displaystyle \\left[\\begin{matrix}1 & 0 & 0 & 0\\\\0 & 0 & 0 & 1\\\\0 & 0 & 1 & 0\\\\0 & 1 & 0 & 0\\end{matrix}\\right]$"
     },
     "metadata": {},
     "output_type": "display_data"
    },
    {
     "name": "stdout",
     "output_type": "stream",
     "text": [
      "CNOT * TONC * CNOT\n"
     ]
    },
    {
     "data": {
      "text/plain": "Matrix([\n[1, 0, 0, 0],\n[0, 0, 1, 0],\n[0, 1, 0, 0],\n[0, 0, 0, 1]])",
      "text/latex": "$\\displaystyle \\left[\\begin{matrix}1 & 0 & 0 & 0\\\\0 & 0 & 1 & 0\\\\0 & 1 & 0 & 0\\\\0 & 0 & 0 & 1\\end{matrix}\\right]$"
     },
     "metadata": {},
     "output_type": "display_data"
    }
   ],
   "source": [
    "print(\"XOR\")\n",
    "\n",
    "XOR = xs(2, 0, pi)\n",
    "\n",
    "for st in [\n",
    "    T(bz0, bz0),\n",
    "    T(bz0, bz1),\n",
    "    T(bz1, bz0),\n",
    "    T(bz1, bz1),\n",
    "]:\n",
    "    print(\"Input:\", st)\n",
    "    display(st * XOR)\n",
    "\n",
    "print(\"CNOT\")\n",
    "\n",
    "CNOT = T(zs(1,2), eye(2)) * T(eye(2), xs(2,1)) * sqrt(2)\n",
    "\n",
    "display(CNOT)\n",
    "\n",
    "print(\"TONC\")\n",
    "\n",
    "TONC = swap * CNOT * swap\n",
    "\n",
    "display(TONC)\n",
    "\n",
    "print(\"CNOT * TONC * CNOT\")\n",
    "\n",
    "display(CNOT * TONC * CNOT)\n",
    "\n",
    "\n"
   ],
   "metadata": {
    "collapsed": false,
    "ExecuteTime": {
     "start_time": "2023-08-07T16:04:54.046011Z",
     "end_time": "2023-08-07T16:04:54.102886Z"
    }
   }
  }
 ],
 "metadata": {
  "kernelspec": {
   "display_name": "Python 3 (ipykernel)",
   "language": "python",
   "name": "python3"
  },
  "language_info": {
   "codemirror_mode": {
    "name": "ipython",
    "version": 3
   },
   "file_extension": ".py",
   "mimetype": "text/x-python",
   "name": "python",
   "nbconvert_exporter": "python",
   "pygments_lexer": "ipython3",
   "version": "3.9.6"
  }
 },
 "nbformat": 4,
 "nbformat_minor": 2
}
